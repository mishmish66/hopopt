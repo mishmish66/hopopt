{
 "cells": [
  {
   "cell_type": "code",
   "execution_count": 1,
   "metadata": {},
   "outputs": [],
   "source": [
    "# %pip install sympy\n",
    "# %pip install numpy\n",
    "# %pip install matplotlib\n",
    "# %pip install einops"
   ]
  },
  {
   "cell_type": "code",
   "execution_count": 2,
   "metadata": {},
   "outputs": [],
   "source": [
    "from drawing import draw_robot\n",
    "\n",
    "from sympy import *\n",
    "import numpy as np"
   ]
  },
  {
   "cell_type": "code",
   "execution_count": 3,
   "metadata": {},
   "outputs": [],
   "source": [
    "# Define state variables\n",
    "theta, x, y, l = symbols(\"theta x y l\")\n",
    "q = Matrix([theta, x, y, l])\n",
    "theta_dot, x_dot, y_dot, l_dot = symbols(\"theta_dot x_dot y_dot l_dot\")\n",
    "qd = Matrix([theta_dot, x_dot, y_dot, l_dot])\n",
    "theta_ddot, x_ddot, y_ddot, l_ddot = symbols(\"theta_ddot x_ddot y_ddot l_ddot\")\n",
    "qdd = Matrix([theta_ddot, x_ddot, y_ddot, l_ddot])\n",
    "\n",
    "# Define control variables\n",
    "tau, f = symbols(\"tau f\")\n",
    "u = Matrix([tau, f])\n",
    "\n",
    "# Define system parameters\n",
    "m_b, I, m_l, g = symbols(\"m_b I m_l, g\")\n",
    "p = Matrix([m_b, I, m_l, g])\n",
    "\n",
    "# Defin POIs\n",
    "r_1 = Matrix([x, y])  # COM of body\n",
    "r_2 = Matrix([x + (l + 0.5) * cos(theta), y + (l + 0.5) * sin(theta)])  # COM of leg\n",
    "r_3 = Matrix([x + (l + 1.0) * cos(theta), y + (l + 1.0) * sin(theta)])  # foot\n",
    "\n",
    "g_hat = Matrix([0, -1])  # gravity direction vector\n",
    "\n",
    "\n",
    "# Define utility functions\n",
    "def ddt(expr):\n",
    "    # Take the gradient of expr with respect to q\n",
    "    # Then multiply by qd\n",
    "    return expr.jacobian(q) * qd + expr.jacobian(qd) * qdd\n",
    "\n",
    "\n",
    "def u2Q(u):\n",
    "    # Convert control inputs to generalized forces\n",
    "    return q.jacobian(Matrix([theta, l])).T * u"
   ]
  },
  {
   "cell_type": "markdown",
   "metadata": {},
   "source": [
    "# Define the Lagrangian"
   ]
  },
  {
   "cell_type": "code",
   "execution_count": 4,
   "metadata": {},
   "outputs": [],
   "source": [
    "T = (\n",
    "    1 / 2 * ddt(r_1).T * m_b * ddt(r_1)\n",
    "    + 1 / 2 * ddt(r_2).T * m_l * ddt(r_2)\n",
    "    + 1 / 2 * I * ddt(Matrix([theta]))**2\n",
    ")\n",
    "V = m_b * g * g_hat.T * r_1 + m_l * g * g_hat.T * r_2\n",
    "\n",
    "L = T - V"
   ]
  },
  {
   "cell_type": "code",
   "execution_count": 5,
   "metadata": {},
   "outputs": [],
   "source": [
    "u_exp = ddt(L.jacobian(qd)) - L.jacobian(q).T\n",
    "\n",
    "A = u_exp.jacobian(qdd) # Mass matrix\n",
    "b = u_exp - A * qdd # Coriolis and gravity terms"
   ]
  },
  {
   "cell_type": "code",
   "execution_count": 6,
   "metadata": {},
   "outputs": [],
   "source": [
    "A_func = lambdify((q, qd, p), A, \"numpy\")\n",
    "b_func = lambdify((q, qd, p), b, \"numpy\")"
   ]
  },
  {
   "cell_type": "code",
   "execution_count": 7,
   "metadata": {},
   "outputs": [
    {
     "name": "stdout",
     "output_type": "stream",
     "text": [
      "A =\n",
      " [[ 0.075       0.0123702   0.04844562  0.        ]\n",
      " [ 0.0123702   1.1         0.          0.09689124]\n",
      " [ 0.04844562  0.          1.1        -0.0247404 ]\n",
      " [ 0.          0.09689124 -0.0247404   0.1       ]]\n",
      "b =\n",
      " [[ -0.27525154]\n",
      " [  0.05051596]\n",
      " [-10.39106483]\n",
      " [  0.19270328]]\n"
     ]
    }
   ],
   "source": [
    "q_vals = [-0.25, 0, 2, 0]\n",
    "qd_vals = [1.0, 0, 0, 2]\n",
    "p_vals = [1.0, 0.05, 0.1, 9.81]\n",
    "\n",
    "A_calcd = A_func(q_vals, qd_vals, p_vals)\n",
    "b_calcd = b_func(q_vals, qd_vals, p_vals)\n",
    "\n",
    "print(\"A =\\n\", A_calcd)\n",
    "print(\"b =\\n\", b_calcd)"
   ]
  },
  {
   "cell_type": "code",
   "execution_count": 8,
   "metadata": {},
   "outputs": [
    {
     "data": {
      "text/plain": [
       "array([[[255, 255, 255],\n",
       "        [255, 255, 255],\n",
       "        [255, 255, 255],\n",
       "        ...,\n",
       "        [255, 255, 255],\n",
       "        [255, 255, 255],\n",
       "        [255, 255, 255]],\n",
       "\n",
       "       [[255, 255, 255],\n",
       "        [255, 255, 255],\n",
       "        [255, 255, 255],\n",
       "        ...,\n",
       "        [255, 255, 255],\n",
       "        [255, 255, 255],\n",
       "        [255, 255, 255]],\n",
       "\n",
       "       [[255, 255, 255],\n",
       "        [255, 255, 255],\n",
       "        [255, 255, 255],\n",
       "        ...,\n",
       "        [255, 255, 255],\n",
       "        [255, 255, 255],\n",
       "        [255, 255, 255]],\n",
       "\n",
       "       ...,\n",
       "\n",
       "       [[255, 255, 255],\n",
       "        [255, 255, 255],\n",
       "        [255, 255, 255],\n",
       "        ...,\n",
       "        [255, 255, 255],\n",
       "        [255, 255, 255],\n",
       "        [255, 255, 255]],\n",
       "\n",
       "       [[255, 255, 255],\n",
       "        [255, 255, 255],\n",
       "        [255, 255, 255],\n",
       "        ...,\n",
       "        [255, 255, 255],\n",
       "        [255, 255, 255],\n",
       "        [255, 255, 255]],\n",
       "\n",
       "       [[255, 255, 255],\n",
       "        [255, 255, 255],\n",
       "        [255, 255, 255],\n",
       "        ...,\n",
       "        [255, 255, 255],\n",
       "        [255, 255, 255],\n",
       "        [255, 255, 255]]], dtype=uint8)"
      ]
     },
     "execution_count": 8,
     "metadata": {},
     "output_type": "execute_result"
    }
   ],
   "source": [
    "draw_robot(np.array(q_vals))"
   ]
  },
  {
   "cell_type": "code",
   "execution_count": null,
   "metadata": {},
   "outputs": [],
   "source": []
  }
 ],
 "metadata": {
  "kernelspec": {
   "display_name": "hopopt",
   "language": "python",
   "name": "python3"
  },
  "language_info": {
   "codemirror_mode": {
    "name": "ipython",
    "version": 3
   },
   "file_extension": ".py",
   "mimetype": "text/x-python",
   "name": "python",
   "nbconvert_exporter": "python",
   "pygments_lexer": "ipython3",
   "version": "3.12.0"
  }
 },
 "nbformat": 4,
 "nbformat_minor": 2
}
